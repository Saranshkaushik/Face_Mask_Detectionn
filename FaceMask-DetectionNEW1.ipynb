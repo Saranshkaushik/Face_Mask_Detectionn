{
 "cells": [
  {
   "cell_type": "code",
   "execution_count": 3,
   "metadata": {},
   "outputs": [
    {
     "name": "stdout",
     "output_type": "stream",
     "text": [
      "Requirement already satisfied: pytest-astropy in c:\\programdata\\anaconda3\\lib\\site-packages (0.8.0)\n",
      "Requirement already satisfied: pytest>=4.6 in c:\\programdata\\anaconda3\\lib\\site-packages (from pytest-astropy) (5.3.5)\n",
      "Collecting pytest-cov>=2.0\n",
      "  Downloading pytest_cov-3.0.0-py3-none-any.whl (20 kB)\n",
      "Requirement already satisfied: pytest-astropy-header>=0.1.2 in c:\\programdata\\anaconda3\\lib\\site-packages (from pytest-astropy) (0.1.2)\n",
      "Requirement already satisfied: hypothesis>=5.1 in c:\\programdata\\anaconda3\\lib\\site-packages (from pytest-astropy) (5.5.4)\n",
      "Requirement already satisfied: pytest-doctestplus>=0.2.0 in c:\\programdata\\anaconda3\\lib\\site-packages (from pytest-astropy) (0.5.0)\n",
      "Requirement already satisfied: pytest-remotedata>=0.3.1 in c:\\programdata\\anaconda3\\lib\\site-packages (from pytest-astropy) (0.3.2)\n",
      "Collecting pytest-filter-subpackage>=0.1\n",
      "  Downloading pytest_filter_subpackage-0.1.1-py2.py3-none-any.whl (5.1 kB)\n",
      "Requirement already satisfied: pytest-openfiles>=0.3.1 in c:\\programdata\\anaconda3\\lib\\site-packages (from pytest-astropy) (0.4.0)\n",
      "Requirement already satisfied: pytest-arraydiff>=0.1 in c:\\programdata\\anaconda3\\lib\\site-packages (from pytest-astropy) (0.3)\n",
      "Requirement already satisfied: py>=1.5.0 in c:\\programdata\\anaconda3\\lib\\site-packages (from pytest>=4.6->pytest-astropy) (1.8.1)\n",
      "Requirement already satisfied: packaging in c:\\programdata\\anaconda3\\lib\\site-packages (from pytest>=4.6->pytest-astropy) (20.1)\n",
      "Requirement already satisfied: attrs>=17.4.0 in c:\\programdata\\anaconda3\\lib\\site-packages (from pytest>=4.6->pytest-astropy) (19.3.0)\n",
      "Requirement already satisfied: more-itertools>=4.0.0 in c:\\programdata\\anaconda3\\lib\\site-packages (from pytest>=4.6->pytest-astropy) (8.2.0)\n",
      "Requirement already satisfied: pluggy<1.0,>=0.12 in c:\\programdata\\anaconda3\\lib\\site-packages (from pytest>=4.6->pytest-astropy) (0.13.1)\n",
      "Requirement already satisfied: wcwidth in c:\\programdata\\anaconda3\\lib\\site-packages (from pytest>=4.6->pytest-astropy) (0.1.8)\n",
      "Requirement already satisfied: importlib-metadata>=0.12 in c:\\programdata\\anaconda3\\lib\\site-packages (from pytest>=4.6->pytest-astropy) (1.5.0)\n",
      "Requirement already satisfied: atomicwrites>=1.0 in c:\\programdata\\anaconda3\\lib\\site-packages (from pytest>=4.6->pytest-astropy) (1.3.0)\n",
      "Requirement already satisfied: colorama in c:\\programdata\\anaconda3\\lib\\site-packages (from pytest>=4.6->pytest-astropy) (0.4.3)\n",
      "Collecting coverage[toml]>=5.2.1\n",
      "  Downloading coverage-6.2-cp37-cp37m-win_amd64.whl (183 kB)\n",
      "Requirement already satisfied: sortedcontainers<3.0.0,>=2.1.0 in c:\\programdata\\anaconda3\\lib\\site-packages (from hypothesis>=5.1->pytest-astropy) (2.1.0)\n",
      "Requirement already satisfied: six in c:\\programdata\\anaconda3\\lib\\site-packages (from pytest-doctestplus>=0.2.0->pytest-astropy) (1.14.0)\n",
      "Requirement already satisfied: psutil in c:\\programdata\\anaconda3\\lib\\site-packages (from pytest-openfiles>=0.3.1->pytest-astropy) (5.6.7)\n",
      "Requirement already satisfied: numpy in c:\\programdata\\anaconda3\\lib\\site-packages (from pytest-arraydiff>=0.1->pytest-astropy) (1.18.1)\n",
      "Requirement already satisfied: pyparsing>=2.0.2 in c:\\programdata\\anaconda3\\lib\\site-packages (from packaging->pytest>=4.6->pytest-astropy) (2.4.6)\n",
      "Requirement already satisfied: zipp>=0.5 in c:\\programdata\\anaconda3\\lib\\site-packages (from importlib-metadata>=0.12->pytest>=4.6->pytest-astropy) (2.2.0)\n",
      "Collecting tomli; extra == \"toml\"\n",
      "  Downloading tomli-1.2.2-py3-none-any.whl (12 kB)\n",
      "Installing collected packages: tomli, coverage, pytest-cov, pytest-filter-subpackage\n",
      "Successfully installed coverage-6.2 pytest-cov-3.0.0 pytest-filter-subpackage-0.1.1 tomli-1.2.2\n"
     ]
    }
   ],
   "source": [
    "!pip install pytest-astropy"
   ]
  },
  {
   "cell_type": "code",
   "execution_count": 8,
   "metadata": {},
   "outputs": [
    {
     "name": "stdout",
     "output_type": "stream",
     "text": [
      "Requirement already satisfied: tensorflow in c:\\users\\saransh\\appdata\\roaming\\python\\python37\\site-packages (2.7.0)\n",
      "Requirement already satisfied: astunparse>=1.6.0 in c:\\programdata\\anaconda3\\lib\\site-packages (from tensorflow) (1.6.3)\n",
      "Requirement already satisfied: absl-py>=0.4.0 in c:\\programdata\\anaconda3\\lib\\site-packages (from tensorflow) (1.0.0)\n",
      "Requirement already satisfied: libclang>=9.0.1 in c:\\programdata\\anaconda3\\lib\\site-packages (from tensorflow) (12.0.0)\n",
      "Requirement already satisfied: tensorboard~=2.6 in c:\\users\\saransh\\appdata\\roaming\\python\\python37\\site-packages (from tensorflow) (2.7.0)\n",
      "Requirement already satisfied: google-pasta>=0.1.1 in c:\\users\\saransh\\appdata\\roaming\\python\\python37\\site-packages (from tensorflow) (0.2.0)\n",
      "Requirement already satisfied: tensorflow-io-gcs-filesystem>=0.21.0 in c:\\programdata\\anaconda3\\lib\\site-packages (from tensorflow) (0.22.0)\n",
      "Requirement already satisfied: grpcio<2.0,>=1.24.3 in c:\\programdata\\anaconda3\\lib\\site-packages (from tensorflow) (1.42.0)\n",
      "Requirement already satisfied: protobuf>=3.9.2 in c:\\programdata\\anaconda3\\lib\\site-packages (from tensorflow) (3.19.1)\n",
      "Requirement already satisfied: termcolor>=1.1.0 in c:\\users\\saransh\\appdata\\roaming\\python\\python37\\site-packages (from tensorflow) (1.1.0)\n",
      "Requirement already satisfied: typing-extensions>=3.6.6 in c:\\programdata\\anaconda3\\lib\\site-packages (from tensorflow) (4.0.0)\n",
      "Requirement already satisfied: numpy>=1.14.5 in c:\\programdata\\anaconda3\\lib\\site-packages (from tensorflow) (1.18.1)\n",
      "Requirement already satisfied: keras<2.8,>=2.7.0rc0 in c:\\users\\saransh\\appdata\\roaming\\python\\python37\\site-packages (from tensorflow) (2.7.0)\n",
      "Requirement already satisfied: h5py>=2.9.0 in c:\\programdata\\anaconda3\\lib\\site-packages (from tensorflow) (2.10.0)\n",
      "Requirement already satisfied: flatbuffers<3.0,>=1.12 in c:\\programdata\\anaconda3\\lib\\site-packages (from tensorflow) (2.0)\n",
      "Requirement already satisfied: six>=1.12.0 in c:\\programdata\\anaconda3\\lib\\site-packages (from tensorflow) (1.14.0)\n",
      "Requirement already satisfied: wheel<1.0,>=0.32.0 in c:\\programdata\\anaconda3\\lib\\site-packages (from tensorflow) (0.34.2)\n",
      "Requirement already satisfied: wrapt>=1.11.0 in c:\\programdata\\anaconda3\\lib\\site-packages (from tensorflow) (1.11.2)\n",
      "Requirement already satisfied: keras-preprocessing>=1.1.1 in c:\\programdata\\anaconda3\\lib\\site-packages (from tensorflow) (1.1.2)\n",
      "Requirement already satisfied: tensorflow-estimator<2.8,~=2.7.0rc0 in c:\\programdata\\anaconda3\\lib\\site-packages (from tensorflow) (2.7.0)\n",
      "Requirement already satisfied: gast<0.5.0,>=0.2.1 in c:\\programdata\\anaconda3\\lib\\site-packages (from tensorflow) (0.4.0)\n",
      "Requirement already satisfied: opt-einsum>=2.3.2 in c:\\users\\saransh\\appdata\\roaming\\python\\python37\\site-packages (from tensorflow) (3.3.0)\n",
      "Requirement already satisfied: tensorboard-data-server<0.7.0,>=0.6.0 in c:\\programdata\\anaconda3\\lib\\site-packages (from tensorboard~=2.6->tensorflow) (0.6.1)\n",
      "Requirement already satisfied: requests<3,>=2.21.0 in c:\\programdata\\anaconda3\\lib\\site-packages (from tensorboard~=2.6->tensorflow) (2.22.0)\n",
      "Requirement already satisfied: markdown>=2.6.8 in c:\\users\\saransh\\appdata\\roaming\\python\\python37\\site-packages (from tensorboard~=2.6->tensorflow) (3.3.6)\n",
      "Requirement already satisfied: google-auth-oauthlib<0.5,>=0.4.1 in c:\\programdata\\anaconda3\\lib\\site-packages (from tensorboard~=2.6->tensorflow) (0.4.6)\n",
      "Requirement already satisfied: setuptools>=41.0.0 in c:\\programdata\\anaconda3\\lib\\site-packages (from tensorboard~=2.6->tensorflow) (45.2.0.post20200210)\n",
      "Requirement already satisfied: tensorboard-plugin-wit>=1.6.0 in c:\\programdata\\anaconda3\\lib\\site-packages (from tensorboard~=2.6->tensorflow) (1.8.0)\n",
      "Requirement already satisfied: google-auth<3,>=1.6.3 in c:\\programdata\\anaconda3\\lib\\site-packages (from tensorboard~=2.6->tensorflow) (2.3.3)\n",
      "Requirement already satisfied: werkzeug>=0.11.15 in c:\\programdata\\anaconda3\\lib\\site-packages (from tensorboard~=2.6->tensorflow) (1.0.0)\n",
      "Requirement already satisfied: idna<2.9,>=2.5 in c:\\programdata\\anaconda3\\lib\\site-packages (from requests<3,>=2.21.0->tensorboard~=2.6->tensorflow) (2.8)\n",
      "Requirement already satisfied: chardet<3.1.0,>=3.0.2 in c:\\programdata\\anaconda3\\lib\\site-packages (from requests<3,>=2.21.0->tensorboard~=2.6->tensorflow) (3.0.4)\n",
      "Requirement already satisfied: urllib3!=1.25.0,!=1.25.1,<1.26,>=1.21.1 in c:\\programdata\\anaconda3\\lib\\site-packages (from requests<3,>=2.21.0->tensorboard~=2.6->tensorflow) (1.25.8)\n",
      "Requirement already satisfied: certifi>=2017.4.17 in c:\\programdata\\anaconda3\\lib\\site-packages (from requests<3,>=2.21.0->tensorboard~=2.6->tensorflow) (2019.11.28)\n",
      "Requirement already satisfied: importlib-metadata>=4.4; python_version < \"3.10\" in c:\\users\\saransh\\appdata\\roaming\\python\\python37\\site-packages (from markdown>=2.6.8->tensorboard~=2.6->tensorflow) (4.8.2)\n",
      "Requirement already satisfied: requests-oauthlib>=0.7.0 in c:\\programdata\\anaconda3\\lib\\site-packages (from google-auth-oauthlib<0.5,>=0.4.1->tensorboard~=2.6->tensorflow) (1.3.0)\n",
      "Requirement already satisfied: rsa<5,>=3.1.4; python_version >= \"3.6\" in c:\\programdata\\anaconda3\\lib\\site-packages (from google-auth<3,>=1.6.3->tensorboard~=2.6->tensorflow) (4.8)\n",
      "Requirement already satisfied: cachetools<5.0,>=2.0.0 in c:\\programdata\\anaconda3\\lib\\site-packages (from google-auth<3,>=1.6.3->tensorboard~=2.6->tensorflow) (4.2.4)\n",
      "Requirement already satisfied: pyasn1-modules>=0.2.1 in c:\\programdata\\anaconda3\\lib\\site-packages (from google-auth<3,>=1.6.3->tensorboard~=2.6->tensorflow) (0.2.8)\n",
      "Requirement already satisfied: zipp>=0.5 in c:\\programdata\\anaconda3\\lib\\site-packages (from importlib-metadata>=4.4; python_version < \"3.10\"->markdown>=2.6.8->tensorboard~=2.6->tensorflow) (2.2.0)\n",
      "Requirement already satisfied: oauthlib>=3.0.0 in c:\\programdata\\anaconda3\\lib\\site-packages (from requests-oauthlib>=0.7.0->google-auth-oauthlib<0.5,>=0.4.1->tensorboard~=2.6->tensorflow) (3.1.1)\n",
      "Requirement already satisfied: pyasn1>=0.1.3 in c:\\programdata\\anaconda3\\lib\\site-packages (from rsa<5,>=3.1.4; python_version >= \"3.6\"->google-auth<3,>=1.6.3->tensorboard~=2.6->tensorflow) (0.4.8)\n",
      "Requirement already satisfied: opencv-python in c:\\programdata\\anaconda3\\lib\\site-packages (4.5.4.60)\n",
      "Requirement already satisfied: numpy>=1.14.5 in c:\\programdata\\anaconda3\\lib\\site-packages (from opencv-python) (1.18.1)\n",
      "Requirement already up-to-date: imutils in c:\\programdata\\anaconda3\\lib\\site-packages (0.5.4)\n"
     ]
    }
   ],
   "source": [
    "!pip install tensorflow --no-warn-script-location\n",
    "pip install --ignore-installed --upgrade tensorflow\n",
    "!pip install opencv-python\n",
    "!pip install --upgrade imutils"
   ]
  },
  {
   "cell_type": "code",
   "execution_count": null,
   "metadata": {},
   "outputs": [],
   "source": [
    "!conda create -n tensorflow python=3.5\n",
    "!activate tensorflow\n",
    "!pip install --ignore-installed --upgrade tensorflow"
   ]
  },
  {
   "cell_type": "code",
   "execution_count": 1,
   "metadata": {},
   "outputs": [],
   "source": [
    "\n",
    "import os\n",
    "import zipfile\n",
    "import random\n",
    "import shutil\n",
    "import tensorflow as tf\n",
    "from tensorflow.keras.optimizers import RMSprop\n",
    "from tensorflow.keras.preprocessing.image import ImageDataGenerator\n",
    "from shutil import copyfile\n",
    "from os import getcwd\n",
    "from os import listdir\n",
    "import cv2\n",
    "from tensorflow.keras.layers import Conv2D, Input, ZeroPadding2D, BatchNormalization, Activation, MaxPooling2D, Flatten, Dense\n",
    "from tensorflow.keras.models import Model, load_model\n",
    "from tensorflow.keras.callbacks import TensorBoard, ModelCheckpoint\n",
    "from sklearn.model_selection import train_test_split\n",
    "from sklearn.metrics import f1_score\n",
    "from sklearn.utils import shuffle\n",
    "import imutils\n",
    "import numpy as np\n",
    "import matplotlib.pyplot as plt\n",
    "import matplotlib.image  as mpimg\n"
   ]
  },
  {
   "cell_type": "code",
   "execution_count": 2,
   "metadata": {},
   "outputs": [
    {
     "name": "stdout",
     "output_type": "stream",
     "text": [
      "The number of images with facemask labelled 'yes': 690\n",
      "The number of images with facemask labelled 'no': 686\n"
     ]
    }
   ],
   "source": [
    "print(\"The number of images with facemask labelled 'yes':\",len(os.listdir('observations-master/experiements/data/with_mask')))\n",
    "print(\"The number of images with facemask labelled 'no':\",len(os.listdir('observations-master/experiements/data/without_mask')))"
   ]
  },
  {
   "cell_type": "code",
   "execution_count": 3,
   "metadata": {},
   "outputs": [
    {
     "name": "stdout",
     "output_type": "stream",
     "text": [
      "Number of examples: 1376\n",
      "Percentage of positive examples: 50.145348837209305%, number of pos examples: 690\n",
      "Percentage of negative examples: 49.854651162790695%, number of neg examples: 686\n"
     ]
    }
   ],
   "source": [
    "def data_summary(main_path):\n",
    "    \n",
    "    yes_path = main_path+'withmaskreal'\n",
    "    no_path = main_path+'withoutmaskreal'\n",
    "        \n",
    "    # number of files (images) that are in the the folder named 'yes' that represent tumorous (positive) examples\n",
    "    m_pos = len(listdir('observations-master/experiements/data/with_mask'))\n",
    "    # number of files (images) that are in the the folder named 'no' that represent non-tumorous (negative) examples\n",
    "    m_neg = len(listdir('observations-master/experiements/data/without_mask'))\n",
    "    # number of all examples\n",
    "    m = (m_pos+m_neg)\n",
    "    \n",
    "    pos_prec = (m_pos* 100.0)/ m\n",
    "    neg_prec = (m_neg* 100.0)/ m\n",
    "    \n",
    "    print(f\"Number of examples: {m}\")\n",
    "    print(f\"Percentage of positive examples: {pos_prec}%, number of pos examples: {m_pos}\") \n",
    "    print(f\"Percentage of negative examples: {neg_prec}%, number of neg examples: {m_neg}\") \n",
    "    \n",
    "augmented_data_path = 'facemask-dataset/trial1/augmented data1/'    \n",
    "data_summary(augmented_data_path)"
   ]
  },
  {
   "cell_type": "code",
   "execution_count": 4,
   "metadata": {},
   "outputs": [],
   "source": [
    "def split_data(SOURCE, TRAINING, TESTING, SPLIT_SIZE):\n",
    "    dataset = []\n",
    "    \n",
    "    for unitData in os.listdir(SOURCE):\n",
    "        data = SOURCE + unitData\n",
    "        if(os.path.getsize(data) > 0):\n",
    "            dataset.append(unitData)\n",
    "        else:\n",
    "            print('Skipped ' + unitData)\n",
    "            print('Invalid file i.e zero size')\n",
    "    \n",
    "    train_set_length = int(len(dataset) * SPLIT_SIZE)\n",
    "    test_set_length = int(len(dataset) - train_set_length)\n",
    "    shuffled_set = random.sample(dataset, len(dataset))\n",
    "    train_set = dataset[0:train_set_length]\n",
    "    test_set = dataset[-test_set_length:]\n",
    "       \n",
    "    for unitData in train_set:\n",
    "        temp_train_set = SOURCE + unitData\n",
    "        final_train_set = TRAINING + unitData\n",
    "        copyfile(temp_train_set, final_train_set)\n",
    "    \n",
    "    for unitData in test_set:\n",
    "        temp_test_set = SOURCE + unitData\n",
    "        final_test_set = TESTING + unitData\n",
    "        copyfile(temp_test_set, final_test_set)\n",
    "        \n",
    "        \n",
    "YES_SOURCE_DIR = \"observations-master/experiements/dest_folder/val/with_mask/\"\n",
    "TRAINING_YES_DIR = \"observations-master/experiements/dest_folder/train/with_mask/\"\n",
    "TESTING_YES_DIR = \"observations-master/experiements/dest_folder/test/without_mask/\"\n",
    "NO_SOURCE_DIR = \"observations-master/experiements/dest_folder/val/without_mask/\"\n",
    "TRAINING_NO_DIR = \"observations-master/experiements/dest_folder/train/without_mask/\"\n",
    "TESTING_NO_DIR = \"observations-master/experiements/dest_folder/test/without_mask/\"\n",
    "split_size = .8\n",
    "split_data(YES_SOURCE_DIR, TRAINING_YES_DIR, TESTING_YES_DIR, split_size)\n",
    "split_data(NO_SOURCE_DIR, TRAINING_NO_DIR, TESTING_NO_DIR, split_size)"
   ]
  },
  {
   "cell_type": "code",
   "execution_count": 5,
   "metadata": {},
   "outputs": [
    {
     "name": "stdout",
     "output_type": "stream",
     "text": [
      "The number of images with facemask in the training set labelled 'yes': 714\n",
      "The number of images with facemask in the test set labelled 'yes': 97\n",
      "The number of images without facemask in the training set labelled 'no': 712\n",
      "The number of images without facemask in the test set labelled 'no': 127\n"
     ]
    }
   ],
   "source": [
    "print(\"The number of images with facemask in the training set labelled 'yes':\", len(os.listdir('observations-master/experiements//dest_folder//train//with_mask')))\n",
    "print(\"The number of images with facemask in the test set labelled 'yes':\", len(os.listdir('observations-master/experiements//dest_folder//test//with_mask')))\n",
    "print(\"The number of images without facemask in the training set labelled 'no':\", len(os.listdir('observations-master/experiements//dest_folder//train//without_mask')))\n",
    "print(\"The number of images without facemask in the test set labelled 'no':\", len(os.listdir('observations-master/experiements//dest_folder//test//without_mask')))"
   ]
  },
  {
   "cell_type": "code",
   "execution_count": 6,
   "metadata": {},
   "outputs": [],
   "source": [
    "model = tf.keras.models.Sequential([\n",
    "    tf.keras.layers.Conv2D(100, (3,3), activation='relu', input_shape=(150, 150, 3)),\n",
    "    tf.keras.layers.MaxPooling2D(2,2),\n",
    "    \n",
    "    tf.keras.layers.Conv2D(100, (3,3), activation='relu'),\n",
    "    tf.keras.layers.MaxPooling2D(2,2),\n",
    "    \n",
    "    tf.keras.layers.Flatten(),\n",
    "    tf.keras.layers.Dropout(0.5),\n",
    "    tf.keras.layers.Dense(50, activation='relu'),\n",
    "    tf.keras.layers.Dense(2, activation='softmax')\n",
    "])\n",
    "model.compile(optimizer='adam', loss='binary_crossentropy', metrics=['acc'])"
   ]
  },
  {
   "cell_type": "code",
   "execution_count": 9,
   "metadata": {},
   "outputs": [
    {
     "name": "stdout",
     "output_type": "stream",
     "text": [
      "Found 1426 images belonging to 2 classes.\n",
      "Found 224 images belonging to 2 classes.\n"
     ]
    }
   ],
   "source": [
    "TRAINING_DIR = \"observations-master/experiements/dest_folder/train\"\n",
    "train_datagen = ImageDataGenerator(rescale=1.0/255,\n",
    "                                   rotation_range=40,\n",
    "                                   width_shift_range=0.2,\n",
    "                                   height_shift_range=0.2,\n",
    "                                   shear_range=0.2,\n",
    "                                   zoom_range=0.2,\n",
    "                                   horizontal_flip=True,\n",
    "                                   fill_mode='nearest')\n",
    "\n",
    "train_generator = train_datagen.flow_from_directory(TRAINING_DIR, \n",
    "                                                    batch_size=10, \n",
    "                                                    target_size=(150, 150))\n",
    "VALIDATION_DIR = \"observations-master/experiements/dest_folder/test\"\n",
    "validation_datagen = ImageDataGenerator(rescale=1.0/255)\n",
    "\n",
    "validation_generator = validation_datagen.flow_from_directory(VALIDATION_DIR, \n",
    "                                                         batch_size=10, \n",
    "                                                         target_size=(150, 150))\n",
    "checkpoint = ModelCheckpoint('model-{epoch:03d}.model',monitor='val_loss',verbose=0,save_best_only=True,mode='auto')"
   ]
  },
  {
   "cell_type": "code",
   "execution_count": 8,
   "metadata": {
    "scrolled": false
   },
   "outputs": [
    {
     "name": "stdout",
     "output_type": "stream",
     "text": [
      "Epoch 1/30\n",
      "143/143 [==============================] - ETA: 0s - loss: 0.6422 - acc: 0.6311INFO:tensorflow:Assets written to: model-001.model\\assets\n",
      "143/143 [==============================] - 113s 783ms/step - loss: 0.6422 - acc: 0.6311 - val_loss: 0.4919 - val_acc: 0.8795\n",
      "Epoch 2/30\n",
      "143/143 [==============================] - ETA: 0s - loss: 0.3837 - acc: 0.8415INFO:tensorflow:Assets written to: model-002.model\\assets\n",
      "143/143 [==============================] - 94s 659ms/step - loss: 0.3837 - acc: 0.8415 - val_loss: 0.4322 - val_acc: 0.8482\n",
      "Epoch 3/30\n",
      "143/143 [==============================] - ETA: 0s - loss: 0.2921 - acc: 0.8913INFO:tensorflow:Assets written to: model-003.model\\assets\n",
      "143/143 [==============================] - 95s 659ms/step - loss: 0.2921 - acc: 0.8913 - val_loss: 0.3191 - val_acc: 0.8929\n",
      "Epoch 4/30\n",
      "143/143 [==============================] - ETA: 0s - loss: 0.2521 - acc: 0.9046INFO:tensorflow:Assets written to: model-004.model\\assets\n",
      "143/143 [==============================] - 94s 652ms/step - loss: 0.2521 - acc: 0.9046 - val_loss: 0.3091 - val_acc: 0.9018\n",
      "Epoch 5/30\n",
      "143/143 [==============================] - 95s 658ms/step - loss: 0.2549 - acc: 0.9025 - val_loss: 0.4042 - val_acc: 0.8884\n",
      "Epoch 6/30\n",
      "143/143 [==============================] - 93s 647ms/step - loss: 0.2236 - acc: 0.9187 - val_loss: 0.3238 - val_acc: 0.9152\n",
      "Epoch 7/30\n",
      "143/143 [==============================] - 91s 636ms/step - loss: 0.2091 - acc: 0.9229 - val_loss: 0.3476 - val_acc: 0.9152\n",
      "Epoch 8/30\n",
      "143/143 [==============================] - ETA: 0s - loss: 0.2290 - acc: 0.9187INFO:tensorflow:Assets written to: model-008.model\\assets\n",
      "143/143 [==============================] - 93s 648ms/step - loss: 0.2290 - acc: 0.9187 - val_loss: 0.3089 - val_acc: 0.9107\n",
      "Epoch 9/30\n",
      "143/143 [==============================] - 92s 643ms/step - loss: 0.1628 - acc: 0.9404 - val_loss: 0.5539 - val_acc: 0.9107\n",
      "Epoch 10/30\n",
      "143/143 [==============================] - 91s 633ms/step - loss: 0.2077 - acc: 0.9271 - val_loss: 0.4153 - val_acc: 0.8795\n",
      "Epoch 11/30\n",
      "143/143 [==============================] - 90s 630ms/step - loss: 0.1907 - acc: 0.9348 - val_loss: 0.4029 - val_acc: 0.9241\n",
      "Epoch 12/30\n",
      "143/143 [==============================] - 91s 632ms/step - loss: 0.1574 - acc: 0.9453 - val_loss: 0.7182 - val_acc: 0.8839\n",
      "Epoch 13/30\n",
      "143/143 [==============================] - 90s 627ms/step - loss: 0.1512 - acc: 0.9425 - val_loss: 0.6752 - val_acc: 0.8839\n",
      "Epoch 14/30\n",
      "143/143 [==============================] - 90s 625ms/step - loss: 0.1194 - acc: 0.9565 - val_loss: 0.7383 - val_acc: 0.9241\n",
      "Epoch 15/30\n",
      "143/143 [==============================] - 90s 626ms/step - loss: 0.1313 - acc: 0.9558 - val_loss: 0.5361 - val_acc: 0.9286\n",
      "Epoch 16/30\n",
      "143/143 [==============================] - 89s 623ms/step - loss: 0.1606 - acc: 0.9404 - val_loss: 0.6187 - val_acc: 0.9062\n",
      "Epoch 17/30\n",
      "143/143 [==============================] - 90s 626ms/step - loss: 0.1362 - acc: 0.9530 - val_loss: 0.8299 - val_acc: 0.9018\n",
      "Epoch 18/30\n",
      "143/143 [==============================] - 89s 624ms/step - loss: 0.1206 - acc: 0.9530 - val_loss: 0.5300 - val_acc: 0.9330\n",
      "Epoch 19/30\n",
      "143/143 [==============================] - 92s 645ms/step - loss: 0.1457 - acc: 0.9481 - val_loss: 0.6120 - val_acc: 0.9196\n",
      "Epoch 20/30\n",
      "143/143 [==============================] - 90s 628ms/step - loss: 0.1615 - acc: 0.9460 - val_loss: 0.6749 - val_acc: 0.9062\n",
      "Epoch 21/30\n",
      "143/143 [==============================] - 90s 625ms/step - loss: 0.1267 - acc: 0.9551 - val_loss: 0.6466 - val_acc: 0.9196\n",
      "Epoch 22/30\n",
      "143/143 [==============================] - 90s 627ms/step - loss: 0.1238 - acc: 0.9544 - val_loss: 0.6634 - val_acc: 0.9241\n",
      "Epoch 23/30\n",
      "143/143 [==============================] - 90s 626ms/step - loss: 0.1118 - acc: 0.9600 - val_loss: 0.7980 - val_acc: 0.9152\n",
      "Epoch 24/30\n",
      "143/143 [==============================] - 89s 621ms/step - loss: 0.1357 - acc: 0.9586 - val_loss: 0.7764 - val_acc: 0.9062\n",
      "Epoch 25/30\n",
      "143/143 [==============================] - 91s 633ms/step - loss: 0.1172 - acc: 0.9572 - val_loss: 0.6470 - val_acc: 0.9286\n",
      "Epoch 26/30\n",
      "143/143 [==============================] - 87s 609ms/step - loss: 0.1276 - acc: 0.9565 - val_loss: 0.7341 - val_acc: 0.9107\n",
      "Epoch 27/30\n",
      "143/143 [==============================] - 90s 627ms/step - loss: 0.1195 - acc: 0.9565 - val_loss: 0.7279 - val_acc: 0.9152\n",
      "Epoch 28/30\n",
      "143/143 [==============================] - 90s 625ms/step - loss: 0.0934 - acc: 0.9656 - val_loss: 0.9248 - val_acc: 0.9196\n",
      "Epoch 29/30\n",
      "143/143 [==============================] - 91s 632ms/step - loss: 0.1177 - acc: 0.9621 - val_loss: 0.6287 - val_acc: 0.9152\n",
      "Epoch 30/30\n",
      "143/143 [==============================] - 96s 668ms/step - loss: 0.1409 - acc: 0.9565 - val_loss: 0.8038 - val_acc: 0.9107\n"
     ]
    }
   ],
   "source": [
    "history = model.fit(train_generator,\n",
    "                              epochs=30,\n",
    "                              validation_data=validation_generator,\n",
    "                              callbacks=[checkpoint])\n",
    "\n"
   ]
  },
  {
   "cell_type": "code",
   "execution_count": 10,
   "metadata": {},
   "outputs": [
    {
     "name": "stdout",
     "output_type": "stream",
     "text": [
      "Model: \"sequential\"\n",
      "_________________________________________________________________\n",
      " Layer (type)                Output Shape              Param #   \n",
      "=================================================================\n",
      " conv2d (Conv2D)             (None, 148, 148, 100)     2800      \n",
      "                                                                 \n",
      " max_pooling2d (MaxPooling2D  (None, 74, 74, 100)      0         \n",
      " )                                                               \n",
      "                                                                 \n",
      " conv2d_1 (Conv2D)           (None, 72, 72, 100)       90100     \n",
      "                                                                 \n",
      " max_pooling2d_1 (MaxPooling  (None, 36, 36, 100)      0         \n",
      " 2D)                                                             \n",
      "                                                                 \n",
      " flatten (Flatten)           (None, 129600)            0         \n",
      "                                                                 \n",
      " dropout (Dropout)           (None, 129600)            0         \n",
      "                                                                 \n",
      " dense (Dense)               (None, 50)                6480050   \n",
      "                                                                 \n",
      " dense_1 (Dense)             (None, 2)                 102       \n",
      "                                                                 \n",
      "=================================================================\n",
      "Total params: 6,573,052\n",
      "Trainable params: 6,573,052\n",
      "Non-trainable params: 0\n",
      "_________________________________________________________________\n"
     ]
    }
   ],
   "source": [
    "model.summary()"
   ]
  },
  {
   "cell_type": "code",
   "execution_count": 13,
   "metadata": {},
   "outputs": [
    {
     "data": {
      "image/png": "[encoded data removed]",
      "text/plain": [
       "<Figure size 432x288 with 1 Axes>"
      ]
     },
     "metadata": {
      "needs_background": "light"
     },
     "output_type": "display_data"
    }
   ],
   "source": [
    "from matplotlib import pyplot as plt\n",
    "\n",
    "plt.plot(history.history['loss'],'r',label='training loss')\n",
    "plt.plot(history.history['val_loss'],label='validation loss')\n",
    "plt.xlabel('# epochs')\n",
    "plt.ylabel('loss')\n",
    "plt.legend()\n",
    "plt.show()"
   ]
  },
  {
   "cell_type": "code",
   "execution_count": 9,
   "metadata": {},
   "outputs": [
    {
     "data": {
      "image/png": "[encoded data removed]",
      "text/plain": [
       "<Figure size 432x288 with 1 Axes>"
      ]
     },
     "metadata": {
      "needs_background": "light"
     },
     "output_type": "display_data"
    }
   ],
   "source": [
    "plt.plot(history.history['acc'],'r',label='training accuracy')\n",
    "plt.plot(history.history['val_acc'],label='validation accuracy')\n",
    "plt.xlabel('# epochs')\n",
    "plt.ylabel('loss')\n",
    "plt.legend()\n",
    "plt.show()"
   ]
  },
  {
   "cell_type": "code",
   "execution_count": 9,
   "metadata": {},
   "outputs": [],
   "source": [
    "face_clsfr=cv2.CascadeClassifier('haarcascade_frontalface_default.xml')"
   ]
  },
  {
   "cell_type": "code",
   "execution_count": 11,
   "metadata": {
    "scrolled": true
   },
   "outputs": [],
   "source": [
    "labels_dict={0:'without_mask',1:'with_mask'}\n",
    "color_dict={0:(0,0,255),1:(0,255,0)}\n",
    "\n",
    "size = 4\n",
    "webcam = cv2.VideoCapture(0) #Use camera 0\n",
    "\n",
    "# We load the xml file\n",
    "classifier = cv2.CascadeClassifier('haarcascade_frontalface_default.xml')\n",
    "\n",
    "while True:\n",
    "    (rval, im) = webcam.read()\n",
    "    im=cv2.flip(im,1,1) #Flip to act as a mirror\n",
    "\n",
    "    # Resize the image to speed up detection\n",
    "    mini = cv2.resize(im, (im.shape[1] // size, im.shape[0] // size))\n",
    "\n",
    "    # detect MultiScale / faces \n",
    "    faces = classifier.detectMultiScale(mini)\n",
    "\n",
    "    # Draw rectangles around each face\n",
    "    for f in faces:\n",
    "        (x, y, w, h) = [v * size for v in f] #Scale the shapesize backup\n",
    "        #Save just the rectangle faces in SubRecFaces\n",
    "        face_img = im[y:y+h, x:x+w]\n",
    "        resized=cv2.resize(face_img,(150,150))\n",
    "        normalized=resized/255.0\n",
    "        reshaped=np.reshape(normalized,(1,150,150,3))\n",
    "        reshaped = np.vstack([reshaped])\n",
    "        result=model.predict(reshaped)\n",
    "        #print(result)\n",
    "        \n",
    "        label=np.argmax(result,axis=1)[0]\n",
    "      \n",
    "        cv2.rectangle(im,(x,y),(x+w,y+h),color_dict[label],2)\n",
    "        cv2.rectangle(im,(x,y-40),(x+w,y),color_dict[label],-1)\n",
    "        cv2.putText(im, labels_dict[label], (x, y-10),cv2.FONT_HERSHEY_SIMPLEX,0.8,(255,255,255),2)\n",
    "        \n",
    "    # Show the image\n",
    "    cv2.imshow('LIVE',   im)\n",
    "    key = cv2.waitKey(10)\n",
    "    # if Esc key is press then break out of the loop \n",
    "    if key == 27: #The Esc key\n",
    "        break\n",
    "# Stop video\n",
    "webcam.release()\n",
    "\n",
    "# Close all started windows\n",
    "cv2.destroyAllWindows()"
   ]
  },
  {
   "cell_type": "code",
   "execution_count": null,
   "metadata": {},
   "outputs": [],
   "source": []
  },
  {
   "cell_type": "code",
   "execution_count": null,
   "metadata": {},
   "outputs": [],
   "source": []
  }
 ],
 "metadata": {
  "kernelspec": {
   "display_name": "Python 3",
   "language": "python",
   "name": "python3"
  },
  "language_info": {
   "codemirror_mode": {
    "name": "ipython",
    "version": 3
   },
   "file_extension": ".py",
   "mimetype": "text/x-python",
   "name": "python",
   "nbconvert_exporter": "python",
   "pygments_lexer": "ipython3",
   "version": "3.7.6"
  }
 },
 "nbformat": 4,
 "nbformat_minor": 4
}
